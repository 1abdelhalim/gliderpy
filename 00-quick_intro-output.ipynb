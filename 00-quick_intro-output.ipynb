{
 "cells": [
  {
   "cell_type": "markdown",
   "metadata": {},
   "source": [
    "# Quick introduction\n",
    "\n",
    "gliderpy can be installed with conda\n",
    "\n",
    "```\n",
    "conda install --channel conda-forge gliderpy\n",
    "```\n",
    "\n",
    "or pip\n",
    "\n",
    "```\n",
    "pip install gliderpy\n",
    "```\n",
    "\n",
    "gliderpy aims to make querying and downloading glider data easier.\n",
    "Here is how one would build a query using erddapy:"
   ]
  },
  {
   "cell_type": "code",
   "execution_count": 1,
   "metadata": {
    "execution": {
     "iopub.execute_input": "2024-02-01T14:41:04.559674Z",
     "iopub.status.busy": "2024-02-01T14:41:04.559496Z",
     "iopub.status.idle": "2024-02-01T14:41:07.304769Z",
     "shell.execute_reply": "2024-02-01T14:41:07.304278Z"
    }
   },
   "outputs": [
    {
     "data": {
      "text/html": [
       "<div>\n",
       "<style scoped>\n",
       "    .dataframe tbody tr th:only-of-type {\n",
       "        vertical-align: middle;\n",
       "    }\n",
       "\n",
       "    .dataframe tbody tr th {\n",
       "        vertical-align: top;\n",
       "    }\n",
       "\n",
       "    .dataframe thead th {\n",
       "        text-align: right;\n",
       "    }\n",
       "</style>\n",
       "<table border=\"1\" class=\"dataframe\">\n",
       "  <thead>\n",
       "    <tr style=\"text-align: right;\">\n",
       "      <th></th>\n",
       "      <th>depth (m)</th>\n",
       "      <th>latitude (degrees_north)</th>\n",
       "      <th>longitude (degrees_east)</th>\n",
       "      <th>salinity (1)</th>\n",
       "      <th>temperature (Celsius)</th>\n",
       "      <th>profile_id</th>\n",
       "    </tr>\n",
       "    <tr>\n",
       "      <th>time (UTC)</th>\n",
       "      <th></th>\n",
       "      <th></th>\n",
       "      <th></th>\n",
       "      <th></th>\n",
       "      <th></th>\n",
       "      <th></th>\n",
       "    </tr>\n",
       "  </thead>\n",
       "  <tbody>\n",
       "    <tr>\n",
       "      <th>2016-09-02 17:05:38+00:00</th>\n",
       "      <td>6.43</td>\n",
       "      <td>41.120018</td>\n",
       "      <td>-71.017118</td>\n",
       "      <td>32.079258</td>\n",
       "      <td>20.5407</td>\n",
       "      <td>1</td>\n",
       "    </tr>\n",
       "    <tr>\n",
       "      <th>2016-09-02 17:05:38+00:00</th>\n",
       "      <td>7.82</td>\n",
       "      <td>41.120018</td>\n",
       "      <td>-71.017118</td>\n",
       "      <td>32.095406</td>\n",
       "      <td>20.5071</td>\n",
       "      <td>1</td>\n",
       "    </tr>\n",
       "    <tr>\n",
       "      <th>2016-09-02 17:05:38+00:00</th>\n",
       "      <td>8.69</td>\n",
       "      <td>41.120018</td>\n",
       "      <td>-71.017118</td>\n",
       "      <td>32.111920</td>\n",
       "      <td>20.4904</td>\n",
       "      <td>1</td>\n",
       "    </tr>\n",
       "    <tr>\n",
       "      <th>2016-09-02 17:05:38+00:00</th>\n",
       "      <td>9.54</td>\n",
       "      <td>41.120018</td>\n",
       "      <td>-71.017118</td>\n",
       "      <td>32.126587</td>\n",
       "      <td>20.4897</td>\n",
       "      <td>1</td>\n",
       "    </tr>\n",
       "    <tr>\n",
       "      <th>2016-09-02 17:05:38+00:00</th>\n",
       "      <td>10.32</td>\n",
       "      <td>41.120018</td>\n",
       "      <td>-71.017118</td>\n",
       "      <td>32.140717</td>\n",
       "      <td>20.4909</td>\n",
       "      <td>1</td>\n",
       "    </tr>\n",
       "  </tbody>\n",
       "</table>\n",
       "</div>"
      ],
      "text/plain": [
       "                           depth (m)  latitude (degrees_north)  \\\n",
       "time (UTC)                                                       \n",
       "2016-09-02 17:05:38+00:00       6.43                 41.120018   \n",
       "2016-09-02 17:05:38+00:00       7.82                 41.120018   \n",
       "2016-09-02 17:05:38+00:00       8.69                 41.120018   \n",
       "2016-09-02 17:05:38+00:00       9.54                 41.120018   \n",
       "2016-09-02 17:05:38+00:00      10.32                 41.120018   \n",
       "\n",
       "                           longitude (degrees_east)  salinity (1)  \\\n",
       "time (UTC)                                                          \n",
       "2016-09-02 17:05:38+00:00                -71.017118     32.079258   \n",
       "2016-09-02 17:05:38+00:00                -71.017118     32.095406   \n",
       "2016-09-02 17:05:38+00:00                -71.017118     32.111920   \n",
       "2016-09-02 17:05:38+00:00                -71.017118     32.126587   \n",
       "2016-09-02 17:05:38+00:00                -71.017118     32.140717   \n",
       "\n",
       "                           temperature (Celsius)  profile_id  \n",
       "time (UTC)                                                    \n",
       "2016-09-02 17:05:38+00:00                20.5407           1  \n",
       "2016-09-02 17:05:38+00:00                20.5071           1  \n",
       "2016-09-02 17:05:38+00:00                20.4904           1  \n",
       "2016-09-02 17:05:38+00:00                20.4897           1  \n",
       "2016-09-02 17:05:38+00:00                20.4909           1  "
      ]
     },
     "execution_count": 1,
     "metadata": {},
     "output_type": "execute_result"
    }
   ],
   "source": [
    "from erddapy import ERDDAP\n",
    "\n",
    "e = ERDDAP(\n",
    "    server=\"https://gliders.ioos.us/erddap\",\n",
    "    protocol=\"tabledap\",\n",
    "    response=\"csv\",\n",
    ")\n",
    "e.dataset_id = \"whoi_406-20160902T1700\"\n",
    "\n",
    "e.variables = [\n",
    "    \"depth\",\n",
    "    \"latitude\",\n",
    "    \"longitude\",\n",
    "    \"salinity\",\n",
    "    \"temperature\",\n",
    "    \"profile_id\",\n",
    "    \"time\",\n",
    "]\n",
    "\n",
    "df = e.to_pandas(\n",
    "    index_col=\"time (UTC)\",\n",
    "    parse_dates=True,\n",
    ")\n",
    "df.head()"
   ]
  },
  {
   "cell_type": "markdown",
   "metadata": {},
   "source": [
    "And here is how to use gliderpy to obtain the same results but with fewer lines and a cleaner code:"
   ]
  },
  {
   "cell_type": "code",
   "execution_count": 2,
   "metadata": {
    "execution": {
     "iopub.execute_input": "2024-02-01T14:41:07.333929Z",
     "iopub.status.busy": "2024-02-01T14:41:07.333565Z",
     "iopub.status.idle": "2024-02-01T14:41:09.985869Z",
     "shell.execute_reply": "2024-02-01T14:41:09.985360Z"
    }
   },
   "outputs": [
    {
     "data": {
      "text/html": [
       "<div>\n",
       "<style scoped>\n",
       "    .dataframe tbody tr th:only-of-type {\n",
       "        vertical-align: middle;\n",
       "    }\n",
       "\n",
       "    .dataframe tbody tr th {\n",
       "        vertical-align: top;\n",
       "    }\n",
       "\n",
       "    .dataframe thead th {\n",
       "        text-align: right;\n",
       "    }\n",
       "</style>\n",
       "<table border=\"1\" class=\"dataframe\">\n",
       "  <thead>\n",
       "    <tr style=\"text-align: right;\">\n",
       "      <th></th>\n",
       "      <th>latitude</th>\n",
       "      <th>longitude</th>\n",
       "      <th>pressure</th>\n",
       "      <th>profile_id</th>\n",
       "      <th>salinity</th>\n",
       "      <th>temperature</th>\n",
       "      <th>dataset_url</th>\n",
       "    </tr>\n",
       "    <tr>\n",
       "      <th>time (utc)</th>\n",
       "      <th></th>\n",
       "      <th></th>\n",
       "      <th></th>\n",
       "      <th></th>\n",
       "      <th></th>\n",
       "      <th></th>\n",
       "      <th></th>\n",
       "    </tr>\n",
       "  </thead>\n",
       "  <tbody>\n",
       "    <tr>\n",
       "      <th>2016-09-02 17:05:38+00:00</th>\n",
       "      <td>41.120018</td>\n",
       "      <td>-71.017118</td>\n",
       "      <td>6.43</td>\n",
       "      <td>1</td>\n",
       "      <td>32.079258</td>\n",
       "      <td>20.5407</td>\n",
       "      <td>https://gliders.ioos.us/erddap/tabledap/whoi_4...</td>\n",
       "    </tr>\n",
       "    <tr>\n",
       "      <th>2016-09-02 17:05:38+00:00</th>\n",
       "      <td>41.120018</td>\n",
       "      <td>-71.017118</td>\n",
       "      <td>7.82</td>\n",
       "      <td>1</td>\n",
       "      <td>32.095406</td>\n",
       "      <td>20.5071</td>\n",
       "      <td>https://gliders.ioos.us/erddap/tabledap/whoi_4...</td>\n",
       "    </tr>\n",
       "    <tr>\n",
       "      <th>2016-09-02 17:05:38+00:00</th>\n",
       "      <td>41.120018</td>\n",
       "      <td>-71.017118</td>\n",
       "      <td>8.69</td>\n",
       "      <td>1</td>\n",
       "      <td>32.111920</td>\n",
       "      <td>20.4904</td>\n",
       "      <td>https://gliders.ioos.us/erddap/tabledap/whoi_4...</td>\n",
       "    </tr>\n",
       "    <tr>\n",
       "      <th>2016-09-02 17:05:38+00:00</th>\n",
       "      <td>41.120018</td>\n",
       "      <td>-71.017118</td>\n",
       "      <td>9.54</td>\n",
       "      <td>1</td>\n",
       "      <td>32.126587</td>\n",
       "      <td>20.4897</td>\n",
       "      <td>https://gliders.ioos.us/erddap/tabledap/whoi_4...</td>\n",
       "    </tr>\n",
       "    <tr>\n",
       "      <th>2016-09-02 17:05:38+00:00</th>\n",
       "      <td>41.120018</td>\n",
       "      <td>-71.017118</td>\n",
       "      <td>10.32</td>\n",
       "      <td>1</td>\n",
       "      <td>32.140717</td>\n",
       "      <td>20.4909</td>\n",
       "      <td>https://gliders.ioos.us/erddap/tabledap/whoi_4...</td>\n",
       "    </tr>\n",
       "  </tbody>\n",
       "</table>\n",
       "</div>"
      ],
      "text/plain": [
       "                            latitude  longitude  pressure  profile_id  \\\n",
       "time (utc)                                                              \n",
       "2016-09-02 17:05:38+00:00  41.120018 -71.017118      6.43           1   \n",
       "2016-09-02 17:05:38+00:00  41.120018 -71.017118      7.82           1   \n",
       "2016-09-02 17:05:38+00:00  41.120018 -71.017118      8.69           1   \n",
       "2016-09-02 17:05:38+00:00  41.120018 -71.017118      9.54           1   \n",
       "2016-09-02 17:05:38+00:00  41.120018 -71.017118     10.32           1   \n",
       "\n",
       "                            salinity  temperature  \\\n",
       "time (utc)                                          \n",
       "2016-09-02 17:05:38+00:00  32.079258      20.5407   \n",
       "2016-09-02 17:05:38+00:00  32.095406      20.5071   \n",
       "2016-09-02 17:05:38+00:00  32.111920      20.4904   \n",
       "2016-09-02 17:05:38+00:00  32.126587      20.4897   \n",
       "2016-09-02 17:05:38+00:00  32.140717      20.4909   \n",
       "\n",
       "                                                                 dataset_url  \n",
       "time (utc)                                                                    \n",
       "2016-09-02 17:05:38+00:00  https://gliders.ioos.us/erddap/tabledap/whoi_4...  \n",
       "2016-09-02 17:05:38+00:00  https://gliders.ioos.us/erddap/tabledap/whoi_4...  \n",
       "2016-09-02 17:05:38+00:00  https://gliders.ioos.us/erddap/tabledap/whoi_4...  \n",
       "2016-09-02 17:05:38+00:00  https://gliders.ioos.us/erddap/tabledap/whoi_4...  \n",
       "2016-09-02 17:05:38+00:00  https://gliders.ioos.us/erddap/tabledap/whoi_4...  "
      ]
     },
     "execution_count": 2,
     "metadata": {},
     "output_type": "execute_result"
    }
   ],
   "source": [
    "from gliderpy.fetchers import GliderDataFetcher\n",
    "\n",
    "glider_grab = GliderDataFetcher()\n",
    "\n",
    "glider_grab.fetcher.dataset_id = \"whoi_406-20160902T1700\"\n",
    "df = glider_grab.to_pandas()\n",
    "df.head()"
   ]
  },
  {
   "cell_type": "markdown",
   "metadata": {},
   "source": [
    "Much easier, right?\n",
    "The variable names are standardized by gliderpy,\n",
    "making it easier to fetch from different data sources and comparing the results.\n",
    "\n",
    "The gliderpy library can subset the data on the server side by passing a geographic bounding box and time interval."
   ]
  },
  {
   "cell_type": "markdown",
   "metadata": {},
   "source": [
    "### Querying multiple datasets\n",
    "\n",
    "The most common use is to search all datasets for data that falls within the certain space-time bounds."
   ]
  },
  {
   "cell_type": "code",
   "execution_count": 3,
   "metadata": {
    "execution": {
     "iopub.execute_input": "2024-02-01T14:41:09.987808Z",
     "iopub.status.busy": "2024-02-01T14:41:09.987643Z",
     "iopub.status.idle": "2024-02-01T14:41:10.318307Z",
     "shell.execute_reply": "2024-02-01T14:41:10.317833Z"
    }
   },
   "outputs": [
    {
     "data": {
      "text/html": [
       "<div>\n",
       "<style scoped>\n",
       "    .dataframe tbody tr th:only-of-type {\n",
       "        vertical-align: middle;\n",
       "    }\n",
       "\n",
       "    .dataframe tbody tr th {\n",
       "        vertical-align: top;\n",
       "    }\n",
       "\n",
       "    .dataframe thead th {\n",
       "        text-align: right;\n",
       "    }\n",
       "</style>\n",
       "<table border=\"1\" class=\"dataframe\">\n",
       "  <thead>\n",
       "    <tr style=\"text-align: right;\">\n",
       "      <th></th>\n",
       "      <th>Title</th>\n",
       "      <th>Institution</th>\n",
       "      <th>Dataset ID</th>\n",
       "      <th>info_url</th>\n",
       "    </tr>\n",
       "  </thead>\n",
       "  <tbody>\n",
       "    <tr>\n",
       "      <th>0</th>\n",
       "      <td>ru23-20130305T2004</td>\n",
       "      <td>Rutgers University</td>\n",
       "      <td>ru23-20130305T2004</td>\n",
       "      <td>https://gliders.ioos.us/erddap/info/ru23-20130...</td>\n",
       "    </tr>\n",
       "    <tr>\n",
       "      <th>1</th>\n",
       "      <td>ru23-20121025T1944</td>\n",
       "      <td>Rutgers University</td>\n",
       "      <td>ru23-20121025T1944</td>\n",
       "      <td>https://gliders.ioos.us/erddap/info/ru23-20121...</td>\n",
       "    </tr>\n",
       "  </tbody>\n",
       "</table>\n",
       "</div>"
      ],
      "text/plain": [
       "                Title         Institution          Dataset ID  \\\n",
       "0  ru23-20130305T2004  Rutgers University  ru23-20130305T2004   \n",
       "1  ru23-20121025T1944  Rutgers University  ru23-20121025T1944   \n",
       "\n",
       "                                            info_url  \n",
       "0  https://gliders.ioos.us/erddap/info/ru23-20130...  \n",
       "1  https://gliders.ioos.us/erddap/info/ru23-20121...  "
      ]
     },
     "execution_count": 3,
     "metadata": {},
     "output_type": "execute_result"
    }
   ],
   "source": [
    "glider_grab = GliderDataFetcher()\n",
    "\n",
    "df = glider_grab.query(10, 40, -90, 8, \"2010-01-01\", \"2013-06-02\")\n",
    "df"
   ]
  },
  {
   "cell_type": "code",
   "execution_count": 4,
   "metadata": {
    "execution": {
     "iopub.execute_input": "2024-02-01T14:41:10.320225Z",
     "iopub.status.busy": "2024-02-01T14:41:10.319930Z",
     "iopub.status.idle": "2024-02-01T14:41:27.525343Z",
     "shell.execute_reply": "2024-02-01T14:41:27.524826Z"
    }
   },
   "outputs": [
    {
     "data": {
      "text/plain": [
       "dict_keys(['ru23-20130305T2004', 'ru23-20121025T1944'])"
      ]
     },
     "execution_count": 4,
     "metadata": {},
     "output_type": "execute_result"
    }
   ],
   "source": [
    "datasets = glider_grab.to_pandas()\n",
    "datasets.keys()"
   ]
  },
  {
   "cell_type": "code",
   "execution_count": 5,
   "metadata": {
    "execution": {
     "iopub.execute_input": "2024-02-01T14:41:27.527355Z",
     "iopub.status.busy": "2024-02-01T14:41:27.527050Z",
     "iopub.status.idle": "2024-02-01T14:41:27.534013Z",
     "shell.execute_reply": "2024-02-01T14:41:27.533558Z"
    }
   },
   "outputs": [
    {
     "data": {
      "text/html": [
       "<div>\n",
       "<style scoped>\n",
       "    .dataframe tbody tr th:only-of-type {\n",
       "        vertical-align: middle;\n",
       "    }\n",
       "\n",
       "    .dataframe tbody tr th {\n",
       "        vertical-align: top;\n",
       "    }\n",
       "\n",
       "    .dataframe thead th {\n",
       "        text-align: right;\n",
       "    }\n",
       "</style>\n",
       "<table border=\"1\" class=\"dataframe\">\n",
       "  <thead>\n",
       "    <tr style=\"text-align: right;\">\n",
       "      <th></th>\n",
       "      <th>latitude</th>\n",
       "      <th>longitude</th>\n",
       "      <th>pressure</th>\n",
       "      <th>profile_id</th>\n",
       "      <th>salinity (1e-3)</th>\n",
       "      <th>temperature</th>\n",
       "      <th>dataset_url</th>\n",
       "    </tr>\n",
       "    <tr>\n",
       "      <th>time (utc)</th>\n",
       "      <th></th>\n",
       "      <th></th>\n",
       "      <th></th>\n",
       "      <th></th>\n",
       "      <th></th>\n",
       "      <th></th>\n",
       "      <th></th>\n",
       "    </tr>\n",
       "  </thead>\n",
       "  <tbody>\n",
       "    <tr>\n",
       "      <th>2012-10-27 18:20:25+00:00</th>\n",
       "      <td>39.999821</td>\n",
       "      <td>-73.510566</td>\n",
       "      <td>1.67</td>\n",
       "      <td>289</td>\n",
       "      <td>31.973030</td>\n",
       "      <td>16.9787</td>\n",
       "      <td>https://gliders.ioos.us/erddap/tabledap/ru23-2...</td>\n",
       "    </tr>\n",
       "    <tr>\n",
       "      <th>2012-10-27 18:20:25+00:00</th>\n",
       "      <td>39.999821</td>\n",
       "      <td>-73.510566</td>\n",
       "      <td>1.68</td>\n",
       "      <td>289</td>\n",
       "      <td>31.973806</td>\n",
       "      <td>16.9775</td>\n",
       "      <td>https://gliders.ioos.us/erddap/tabledap/ru23-2...</td>\n",
       "    </tr>\n",
       "    <tr>\n",
       "      <th>2012-10-27 18:20:25+00:00</th>\n",
       "      <td>39.999821</td>\n",
       "      <td>-73.510566</td>\n",
       "      <td>NaN</td>\n",
       "      <td>289</td>\n",
       "      <td>NaN</td>\n",
       "      <td>NaN</td>\n",
       "      <td>https://gliders.ioos.us/erddap/tabledap/ru23-2...</td>\n",
       "    </tr>\n",
       "    <tr>\n",
       "      <th>2012-10-27 18:20:25+00:00</th>\n",
       "      <td>39.999821</td>\n",
       "      <td>-73.510566</td>\n",
       "      <td>1.82</td>\n",
       "      <td>289</td>\n",
       "      <td>31.973087</td>\n",
       "      <td>16.9778</td>\n",
       "      <td>https://gliders.ioos.us/erddap/tabledap/ru23-2...</td>\n",
       "    </tr>\n",
       "    <tr>\n",
       "      <th>2012-10-27 18:20:25+00:00</th>\n",
       "      <td>39.999821</td>\n",
       "      <td>-73.510566</td>\n",
       "      <td>NaN</td>\n",
       "      <td>289</td>\n",
       "      <td>NaN</td>\n",
       "      <td>NaN</td>\n",
       "      <td>https://gliders.ioos.us/erddap/tabledap/ru23-2...</td>\n",
       "    </tr>\n",
       "  </tbody>\n",
       "</table>\n",
       "</div>"
      ],
      "text/plain": [
       "                            latitude  longitude  pressure  profile_id  \\\n",
       "time (utc)                                                              \n",
       "2012-10-27 18:20:25+00:00  39.999821 -73.510566      1.67         289   \n",
       "2012-10-27 18:20:25+00:00  39.999821 -73.510566      1.68         289   \n",
       "2012-10-27 18:20:25+00:00  39.999821 -73.510566       NaN         289   \n",
       "2012-10-27 18:20:25+00:00  39.999821 -73.510566      1.82         289   \n",
       "2012-10-27 18:20:25+00:00  39.999821 -73.510566       NaN         289   \n",
       "\n",
       "                           salinity (1e-3)  temperature  \\\n",
       "time (utc)                                                \n",
       "2012-10-27 18:20:25+00:00        31.973030      16.9787   \n",
       "2012-10-27 18:20:25+00:00        31.973806      16.9775   \n",
       "2012-10-27 18:20:25+00:00              NaN          NaN   \n",
       "2012-10-27 18:20:25+00:00        31.973087      16.9778   \n",
       "2012-10-27 18:20:25+00:00              NaN          NaN   \n",
       "\n",
       "                                                                 dataset_url  \n",
       "time (utc)                                                                    \n",
       "2012-10-27 18:20:25+00:00  https://gliders.ioos.us/erddap/tabledap/ru23-2...  \n",
       "2012-10-27 18:20:25+00:00  https://gliders.ioos.us/erddap/tabledap/ru23-2...  \n",
       "2012-10-27 18:20:25+00:00  https://gliders.ioos.us/erddap/tabledap/ru23-2...  \n",
       "2012-10-27 18:20:25+00:00  https://gliders.ioos.us/erddap/tabledap/ru23-2...  \n",
       "2012-10-27 18:20:25+00:00  https://gliders.ioos.us/erddap/tabledap/ru23-2...  "
      ]
     },
     "execution_count": 5,
     "metadata": {},
     "output_type": "execute_result"
    }
   ],
   "source": [
    "datasets[\"ru23-20121025T1944\"].head()"
   ]
  },
  {
   "cell_type": "markdown",
   "metadata": {},
   "source": [
    "### Dataset search\n",
    "\n",
    "One can query all dataset_ids available in the server."
   ]
  },
  {
   "cell_type": "code",
   "execution_count": 6,
   "metadata": {
    "execution": {
     "iopub.execute_input": "2024-02-01T14:41:27.535976Z",
     "iopub.status.busy": "2024-02-01T14:41:27.535664Z",
     "iopub.status.idle": "2024-02-01T14:41:28.168526Z",
     "shell.execute_reply": "2024-02-01T14:41:28.167999Z"
    }
   },
   "outputs": [
    {
     "name": "stdout",
     "output_type": "stream",
     "text": [
      "found 1770 glider datasets on the server https://gliders.ioos.us/erddap.\n"
     ]
    }
   ],
   "source": [
    "from gliderpy.fetchers import DatasetList\n",
    "\n",
    "datasets = DatasetList()\n",
    "ds_ids = datasets.get_ids()\n",
    "\n",
    "print(f\"found {len(ds_ids)} glider datasets on the server {datasets.e.server}.\")"
   ]
  }
 ],
 "metadata": {
  "kernelspec": {
   "display_name": "Python 3 (ipykernel)",
   "language": "python",
   "name": "python3"
  },
  "language_info": {
   "codemirror_mode": {
    "name": "ipython",
    "version": 3
   },
   "file_extension": ".py",
   "mimetype": "text/x-python",
   "name": "python",
   "nbconvert_exporter": "python",
   "pygments_lexer": "ipython3",
   "version": "3.12.1"
  }
 },
 "nbformat": 4,
 "nbformat_minor": 4
}
