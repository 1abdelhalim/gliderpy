{
 "cells": [
  {
   "cell_type": "markdown",
   "metadata": {},
   "source": [
    "# Quick introduction\n",
    "\n",
    "gliderpy can be installed with conda\n",
    "\n",
    "```\n",
    "conda install --channel conda-forge gliderpy\n",
    "```\n",
    "\n",
    "or pip\n",
    "\n",
    "```\n",
    "pip install gliderpy\n",
    "```\n",
    "\n",
    "gliderpy aims to make querying and downloading glider data easier.\n",
    "Here is how one would build a query using `erddapy`:"
   ]
  },
  {
   "cell_type": "code",
   "execution_count": null,
   "metadata": {},
   "outputs": [],
   "source": [
    "from erddapy import ERDDAP\n",
    "\n",
    "e = ERDDAP(\n",
    "    server=\"https://gliders.ioos.us/erddap\",\n",
    "    protocol=\"tabledap\",\n",
    "    response=\"csv\",\n",
    ")\n",
    "e.dataset_id = \"whoi_406-20160902T1700\"\n",
    "\n",
    "e.variables = [\n",
    "    \"depth\",\n",
    "    \"latitude\",\n",
    "    \"longitude\",\n",
    "    \"salinity\",\n",
    "    \"temperature\",\n",
    "    \"time\",\n",
    "]\n",
    "\n",
    "df = e.to_pandas(\n",
    "    index_col=\"time (UTC)\",\n",
    "    parse_dates=True,\n",
    ")\n",
    "df.head()"
   ]
  },
  {
   "cell_type": "markdown",
   "metadata": {},
   "source": [
    "With gliderpy attain the same output as erddapy with fewer lines and a cleaner UI:"
   ]
  },
  {
   "cell_type": "code",
   "execution_count": null,
   "metadata": {},
   "outputs": [],
   "source": [
    "from gliderpy.fetchers import GliderDataFetcher\n",
    "\n",
    "glider_grab = GliderDataFetcher()\n",
    "\n",
    "glider_grab.fetcher.dataset_id = \"whoi_406-20160902T1700\"\n",
    "df = glider_grab.to_pandas()\n",
    "df.head()"
   ]
  },
  {
   "cell_type": "markdown",
   "metadata": {},
   "source": [
    "One can also reduce the data on the server side by passing a geographic bounding box and time interval."
   ]
  },
  {
   "cell_type": "code",
   "execution_count": null,
   "metadata": {},
   "outputs": [],
   "source": [
    "glider_grab = GliderDataFetcher()\n",
    "glider_grab.fetcher.dataset_id = \"whoi_406-20160902T1700\"\n",
    "glider_grab.query(38, 41, -72, -69, \"2016-09-20T01:00:00\", \"25th sept 2016\")\n",
    "\n",
    "df = glider_grab.to_pandas()\n",
    "df.head()"
   ]
  },
  {
   "cell_type": "markdown",
   "metadata": {},
   "source": [
    "One can query all datasets available."
   ]
  },
  {
   "cell_type": "code",
   "execution_count": null,
   "metadata": {},
   "outputs": [],
   "source": [
    "from gliderpy.fetchers import DatasetList\n",
    "\n",
    "datasets = DatasetList()\n",
    "ds_ids = datasets.get_ids()\n",
    "\n",
    "print(f\"found {len(ds_ids)} glider datasets on the server {datasets.e.server}\")\n",
    "ds_ids"
   ]
  },
  {
   "cell_type": "markdown",
   "metadata": {},
   "source": [
    "The user can supply their own list of search terms. Let's look for datasets from UW"
   ]
  },
  {
   "cell_type": "code",
   "execution_count": null,
   "metadata": {},
   "outputs": [],
   "source": [
    "uw_glider_ids = datasets.get_ids(search_terms=(\"UW\",))\n",
    "\n",
    "print(\n",
    "    f\"found {len(uw_glider_ids)} datasets matching the search terms on the server {datasets.e.server}\"\n",
    ")\n",
    "\n",
    "uw_glider_ids"
   ]
  },
  {
   "cell_type": "markdown",
   "metadata": {},
   "source": [
    "Finally, a combined search for datasets from UW or Scripps"
   ]
  },
  {
   "cell_type": "code",
   "execution_count": null,
   "metadata": {},
   "outputs": [],
   "source": [
    "combi_ids = datasets.get_ids(search_terms=[\"UW\", \"Scripps\"])\n",
    "\n",
    "print(\n",
    "    f\"found {len(combi_ids)} datasets matching the search terms on the server {datasets.e.server}\"\n",
    ")\n",
    "\n",
    "combi_ids"
   ]
  }
 ],
 "metadata": {
  "kernelspec": {
   "display_name": "Python 3",
   "language": "python",
   "name": "python3"
  },
  "language_info": {
   "codemirror_mode": {
    "name": "ipython",
    "version": 3
   },
   "file_extension": ".py",
   "mimetype": "text/x-python",
   "name": "python",
   "nbconvert_exporter": "python",
   "pygments_lexer": "ipython3",
   "version": "3.8.5"
  }
 },
 "nbformat": 4,
 "nbformat_minor": 4
}
