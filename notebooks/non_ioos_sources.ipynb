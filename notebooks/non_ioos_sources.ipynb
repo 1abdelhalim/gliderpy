{
 "cells": [
  {
   "cell_type": "code",
   "execution_count": null,
   "metadata": {},
   "outputs": [],
   "source": [
    "import matplotlib.pyplot as plt\n",
    "import numpy as np\n",
    "from gliderpy.fetchers import GliderDataFetcher, DatasetList"
   ]
  },
  {
   "cell_type": "markdown",
   "metadata": {},
   "source": [
    "### Ifremer \n",
    "\n",
    "http://www.ifremer.fr/erddap"
   ]
  },
  {
   "cell_type": "markdown",
   "metadata": {},
   "source": [
    "Pull all glider data from a week in September 2015"
   ]
  },
  {
   "cell_type": "code",
   "execution_count": null,
   "metadata": {},
   "outputs": [],
   "source": [
    "glider_grab = GliderDataFetcher(\"http://www.ifremer.fr/erddap\")\n",
    "glider_grab.fetcher.dataset_id = \"OceanGlidersGDACTrajectories\"\n",
    "glider_grab.query(-90, 90, -180, 180, \"2015-09-20\", \"2015-09-27\")\n",
    "df = glider_grab.to_pandas()\n",
    "df.head()"
   ]
  },
  {
   "cell_type": "code",
   "execution_count": null,
   "metadata": {},
   "outputs": [],
   "source": [
    "df.platform_deployment.unique()"
   ]
  },
  {
   "cell_type": "markdown",
   "metadata": {},
   "source": [
    "We can see that this dataset includes three glider deployments, we plot their locations"
   ]
  },
  {
   "cell_type": "code",
   "execution_count": null,
   "metadata": {},
   "outputs": [],
   "source": [
    "fig, ax = plt.subplots()\n",
    "ax.scatter(df[\"longitude (degrees_east)\"], df[\"latitude (degrees_north)\"])\n",
    "ax.set(xlabel='longitude', ylabel='latitude')"
   ]
  },
  {
   "cell_type": "markdown",
   "metadata": {},
   "source": [
    "First find out what datasets are available on this server"
   ]
  },
  {
   "cell_type": "code",
   "execution_count": null,
   "metadata": {},
   "outputs": [],
   "source": [
    "datasets = DatasetList(\"http://www.ifremer.fr/erddap\")\n",
    "ds_ids = datasets.get_ids()\n",
    "ds_ids"
   ]
  },
  {
   "cell_type": "markdown",
   "metadata": {},
   "source": [
    "In contrast to IOOS, Ifremer stores all its glider data in one table\n",
    "\n",
    "We can specify a single glider  deployment with the `platform` method from `GliderDataFetcher`"
   ]
  },
  {
   "cell_type": "code",
   "execution_count": null,
   "metadata": {},
   "outputs": [],
   "source": [
    "glider_grab = GliderDataFetcher(\"http://www.ifremer.fr/erddap\")\n",
    "glider_grab.fetcher.dataset_id = \"OceanGlidersGDACTrajectories\"\n",
    "glider_grab.query(0, 80, -170, 170, \"2015-09-20T01:00:00\", \"25th sept 2015\")\n",
    "glider_grab.platform(\"Laphroaig_489\")\n",
    "df = glider_grab.to_pandas()\n",
    "df.head()"
   ]
  },
  {
   "cell_type": "code",
   "execution_count": null,
   "metadata": {},
   "outputs": [],
   "source": [
    "df.platform_deployment.unique()"
   ]
  },
  {
   "cell_type": "code",
   "execution_count": null,
   "metadata": {},
   "outputs": [],
   "source": [
    "fig, ax = plt.subplots(figsize=(15, 10))\n",
    "m1 = ax.scatter(\n",
    "    df.index,\n",
    "    -df[\"PRES (decibar)\"],\n",
    "    c=df[\"PSAL (PSU)\"],\n",
    "    vmin=34.9,\n",
    "    vmax=35.3,\n",
    "    cmap='viridis'\n",
    ")\n",
    "ax.set(ylim=(-900, 0), ylabel=\"Pressure (dbar)\")\n",
    "cbar = fig.colorbar(ax=ax, mappable=m1, label='Practical salinity (PSU)')"
   ]
  },
  {
   "cell_type": "markdown",
   "metadata": {},
   "source": [
    "### Ocean observatories Initiative\n",
    "https://erddap-uncabled.oceanobservatories.org/uncabled/erddap/index.html"
   ]
  },
  {
   "cell_type": "markdown",
   "metadata": {},
   "source": [
    "What datasets are avalailable on this sever?"
   ]
  },
  {
   "cell_type": "code",
   "execution_count": null,
   "metadata": {},
   "outputs": [],
   "source": [
    "datasets = DatasetList(\"https://erddap-uncabled.oceanobservatories.org/uncabled/erddap\")\n",
    "ds_ids = datasets.get_ids()\n",
    "ds_ids"
   ]
  },
  {
   "cell_type": "markdown",
   "metadata": {},
   "source": [
    "We take the first available dataset and download the csv data"
   ]
  },
  {
   "cell_type": "code",
   "execution_count": null,
   "metadata": {},
   "outputs": [],
   "source": [
    "glider_grab = GliderDataFetcher(\"https://erddap-uncabled.oceanobservatories.org/uncabled/erddap\")\n",
    "glider_grab.fetcher.dataset_id = ds_ids[0]\n",
    "df = glider_grab.to_pandas()\n",
    "df.head()"
   ]
  },
  {
   "cell_type": "code",
   "execution_count": null,
   "metadata": {},
   "outputs": [],
   "source": [
    "fig, ax = plt.subplots(figsize=(15, 10))\n",
    "m1 = ax.scatter(\n",
    "    df.index,\n",
    "    -df[\"ctdgv_m_glider_instrument_sci_water_pressure_dbar (dbar)\"],\n",
    "    c=df[\"ctdgv_m_glider_instrument_sci_water_temp (deg_C)\"],\n",
    "    cmap='RdBu_r'\n",
    ")\n",
    "ax.set(ylim=(-850, 0), ylabel='Pressure (dbar)')\n",
    "cbar = fig.colorbar(ax=ax, mappable=m1, label='In-situ temp (C)')"
   ]
  }
 ],
 "metadata": {
  "kernelspec": {
   "display_name": "Python 3",
   "language": "python",
   "name": "python3"
  },
  "language_info": {
   "codemirror_mode": {
    "name": "ipython",
    "version": 3
   },
   "file_extension": ".py",
   "mimetype": "text/x-python",
   "name": "python",
   "nbconvert_exporter": "python",
   "pygments_lexer": "ipython3",
   "version": "3.8.6"
  }
 },
 "nbformat": 4,
 "nbformat_minor": 4
}
