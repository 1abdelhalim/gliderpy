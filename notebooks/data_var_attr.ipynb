{
 "cells": [
  {
   "cell_type": "markdown",
   "metadata": {},
   "source": [
    "## Example 0.5 Get variables for dataset and store in dictionary"
   ]
  },
  {
   "cell_type": "code",
   "execution_count": 1,
   "metadata": {},
   "outputs": [],
   "source": [
    "from erddapy import ERDDAP\n",
    "\n",
    "e = ERDDAP(\n",
    "    server=\"https://gliders.ioos.us/erddap\",\n",
    "    protocol=\"tabledap\"\n",
    ")"
   ]
  },
  {
   "cell_type": "code",
   "execution_count": 4,
   "metadata": {},
   "outputs": [],
   "source": [
    "import functools\n",
    "import pandas as pd\n",
    "from erddapy.utilities import urlopen\n",
    "\n",
    "\n",
    "class Dataset(ERDDAP):\n",
    "    def __init__(self, server, dataset_id):\n",
    "        super().__init__(server) \n",
    "        self.dataset_id = dataset_id\n",
    "\n",
    "    @functools.lru_cache(maxsize=None)\n",
    "    def dataset_attr(self):\n",
    "        url = self.get_info_url(\n",
    "            dataset_id=self.dataset_id,\n",
    "            response=\"csv\",\n",
    "        )\n",
    "        df = pd.read_csv(url)\n",
    "        # The csv info url has two groups: variable and attribute.\n",
    "        groups = df.groupby(\"Row Type\")\n",
    "        vs = groups.get_group(\"variable\").dropna(how=\"all\", axis=1)\n",
    "        variables = {k: f\"{dtype}\" for k, dtype in zip(vs[\"Variable Name\"], vs[\"Data Type\"])}\n",
    "\n",
    "        attributes = {}\n",
    "        attrs = groups.get_group(\"attribute\").dropna(how=\"all\", axis=1).groupby(\"Variable Name\")\n",
    "        for attr, df in attrs:\n",
    "            attributes.update(\n",
    "                {attr: {k: f\"{dtype}: {val}\" for k, dtype, val in zip(df[\"Attribute Name\"], df[\"Data Type\"], df[\"Value\"])}}\n",
    "            )\n",
    "        return variables, attributes\n",
    "    \n",
    "    @property\n",
    "    def attributes(self):\n",
    "        return self.dataset_attr()[1]\n",
    "\n",
    "    @property\n",
    "    def data_variables(self):\n",
    "        return self.dataset_attr()[0]"
   ]
  },
  {
   "cell_type": "code",
   "execution_count": 5,
   "metadata": {},
   "outputs": [
    {
     "data": {
      "text/plain": [
       "{'trajectory': 'String',\n",
       " 'wmo_id': 'String',\n",
       " 'profile_id': 'int',\n",
       " 'time': 'double',\n",
       " 'latitude': 'double',\n",
       " 'longitude': 'double',\n",
       " 'precise_time': 'double',\n",
       " 'depth': 'float',\n",
       " 'pressure': 'float',\n",
       " 'temperature': 'float',\n",
       " 'conductivity': 'float',\n",
       " 'salinity': 'float',\n",
       " 'density': 'float',\n",
       " 'precise_lat': 'double',\n",
       " 'precise_lon': 'double',\n",
       " 'time_uv': 'double',\n",
       " 'lat_uv': 'double',\n",
       " 'lon_uv': 'double',\n",
       " 'u': 'double',\n",
       " 'v': 'double',\n",
       " 'platform_meta': 'byte',\n",
       " 'instrument_ctd': 'byte',\n",
       " 'precise_lon_qc': 'byte',\n",
       " 'conductivity_qc': 'byte',\n",
       " 'temperature_qc': 'byte',\n",
       " 'precise_time_qc': 'byte',\n",
       " 'lat_uv_qc': 'byte',\n",
       " 'density_qc': 'byte',\n",
       " 'longitude_qc': 'byte',\n",
       " 'lon_uv_qc': 'byte',\n",
       " 'time_uv_qc': 'byte',\n",
       " 'latitude_qc': 'byte',\n",
       " 'u_qc': 'byte',\n",
       " 'v_qc': 'byte',\n",
       " 'depth_qc': 'byte',\n",
       " 'time_qc': 'byte',\n",
       " 'pressure_qc': 'byte',\n",
       " 'precise_lat_qc': 'byte',\n",
       " 'salinity_qc': 'byte',\n",
       " 'qartod_temperature_climatological_flag': 'byte',\n",
       " 'qartod_syntax_flag': 'byte',\n",
       " 'qartod_salinity_spike_flag': 'byte',\n",
       " 'qartod_conductivity_flat_line_flag': 'byte',\n",
       " 'qartod_salinity_climatological_flag': 'byte',\n",
       " 'qartod_density_climatological_flag': 'byte',\n",
       " 'qartod_timing_and_gap_flag': 'byte',\n",
       " 'qartod_density_spike_flag': 'byte',\n",
       " 'qartod_conductivity_climatological_flag': 'byte',\n",
       " 'qartod_density_flat_line_flag': 'byte',\n",
       " 'qartod_temperature_spike_flag': 'byte',\n",
       " 'qartod_salinity_rate_of_change_flag': 'byte',\n",
       " 'qartod_conductivity_gross_range_flag': 'byte',\n",
       " 'qartod_pressure_gross_range_flag': 'byte',\n",
       " 'qartod_density_rate_of_change_flag': 'byte',\n",
       " 'qartod_temperature_flat_line_flag': 'byte',\n",
       " 'qartod_pressure_spike_flag': 'byte',\n",
       " 'qartod_conductivity_rate_of_change_flag': 'byte',\n",
       " 'qartod_monotonic_pressure_flag': 'byte',\n",
       " 'qartod_pressure_rate_of_change_flag': 'byte',\n",
       " 'qartod_salinity_flat_line_flag': 'byte',\n",
       " 'qartod_temperature_gross_range_flag': 'byte',\n",
       " 'qartod_conductivity_spike_flag': 'byte',\n",
       " 'qartod_pressure_flat_line_flag': 'byte',\n",
       " 'qartod_location_flag': 'byte',\n",
       " 'qartod_temperature_rate_of_change_flag': 'byte'}"
      ]
     },
     "execution_count": 5,
     "metadata": {},
     "output_type": "execute_result"
    }
   ],
   "source": [
    "ds = Dataset(e.server, dataset_id=\"whoi_406-20160902T1700\")\n",
    "#ds.attributes\n",
    "ds.data_variables"
   ]
  }
 ],
 "metadata": {
  "kernelspec": {
   "display_name": "Python 3",
   "language": "python",
   "name": "python3"
  },
  "language_info": {
   "codemirror_mode": {
    "name": "ipython",
    "version": 3
   },
   "file_extension": ".py",
   "mimetype": "text/x-python",
   "name": "python",
   "nbconvert_exporter": "python",
   "pygments_lexer": "ipython3",
   "version": "3.8.5"
  }
 },
 "nbformat": 4,
 "nbformat_minor": 4
}
