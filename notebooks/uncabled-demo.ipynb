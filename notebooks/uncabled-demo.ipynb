{
 "cells": [
  {
   "cell_type": "markdown",
   "metadata": {},
   "source": [
    "# Demo on fetching glider data from erddap-uncabled\n",
    "\n",
    "First we import the libraries we need \n",
    "\n",
    "TODO: change paths once we have the package sorted"
   ]
  },
  {
   "cell_type": "code",
   "execution_count": null,
   "metadata": {},
   "outputs": [],
   "source": [
    "from erddapy import ERDDAP\n",
    "from gliderpy.fetchers import DatasetList, GliderDataFetcher"
   ]
  },
  {
   "cell_type": "markdown",
   "metadata": {},
   "source": [
    "Now we look for the glider datasets available"
   ]
  },
  {
   "cell_type": "code",
   "execution_count": null,
   "metadata": {},
   "outputs": [],
   "source": [
    "datasets = DatasetList()\n",
    "datasets.e = ERDDAP(\n",
    "    server=\"https://erddap-uncabled.oceanobservatories.org/uncabled/erddap\",\n",
    "    protocol=\"tabledap\",\n",
    ")\n",
    "glider_ids = datasets.get_ids()\n",
    "glider_ids"
   ]
  },
  {
   "cell_type": "markdown",
   "metadata": {},
   "source": [
    "We pick one of these datasets and pull the data"
   ]
  },
  {
   "cell_type": "code",
   "execution_count": null,
   "metadata": {},
   "outputs": [],
   "source": [
    "uncabled_grab = GliderDataFetcher()\n",
    "uncabled_grab.fetcher = ERDDAP(\n",
    "    server=\"https://erddap-uncabled.oceanobservatories.org/uncabled/erddap\",\n",
    "    protocol=\"tabledap\",\n",
    "    response=\"csv\",\n",
    ")\n",
    "uncabled_grab.fetcher.dataset_id = glider_ids[0]"
   ]
  },
  {
   "cell_type": "markdown",
   "metadata": {},
   "source": [
    "Now let's get that data"
   ]
  },
  {
   "cell_type": "code",
   "execution_count": null,
   "metadata": {},
   "outputs": [],
   "source": [
    "df = uncabled_grab.fetcher.to_pandas(\n",
    "    index_col=\"time (UTC)\",\n",
    "    parse_dates=True,\n",
    ").dropna()\n",
    "\n",
    "df.head()"
   ]
  },
  {
   "cell_type": "markdown",
   "metadata": {},
   "source": [
    "A quick plot of the data"
   ]
  },
  {
   "cell_type": "code",
   "execution_count": null,
   "metadata": {},
   "outputs": [],
   "source": [
    "import matplotlib.pyplot as plt"
   ]
  },
  {
   "cell_type": "code",
   "execution_count": null,
   "metadata": {},
   "outputs": [],
   "source": [
    "fig, ax = plt.subplots(figsize=(15, 10))\n",
    "ax.scatter(\n",
    "    df.index,\n",
    "    -df[\"ctdgv_m_glider_instrument_sci_water_pressure_dbar (dbar)\"],\n",
    "    c=df[\"ctdgv_m_glider_instrument_sci_water_temp (deg_C)\"],\n",
    ")\n",
    "ax.set(ylim=(-100, 0))"
   ]
  }
 ],
 "metadata": {
  "kernelspec": {
   "display_name": "Python 3",
   "language": "python",
   "name": "python3"
  },
  "language_info": {
   "codemirror_mode": {
    "name": "ipython",
    "version": 3
   },
   "file_extension": ".py",
   "mimetype": "text/x-python",
   "name": "python",
   "nbconvert_exporter": "python",
   "pygments_lexer": "ipython3",
   "version": "3.8.5"
  }
 },
 "nbformat": 4,
 "nbformat_minor": 4
}
