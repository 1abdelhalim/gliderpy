{
 "cells": [
  {
   "cell_type": "markdown",
   "metadata": {},
   "source": [
    "## Plotting\n",
    "\n",
    "\n",
    "Let's perform a search for gliders with the keywords UW and Scripps to get a collection of deployments in the USA west coast."
   ]
  },
  {
   "cell_type": "code",
   "execution_count": null,
   "metadata": {},
   "outputs": [],
   "source": [
    "from gliderpy.fetchers import DatasetList\n",
    "\n",
    "datasets = DatasetList()\n",
    "search_terms = [\"UW\", \"Scripps\"]\n",
    "ids = datasets.get_ids(search_terms=search_terms)\n",
    "\n",
    "print(\n",
    "    f\"found {len(ids)} datasets matching the search terms {search_terms} on the server {datasets.e.server}\"\n",
    ")\n",
    "\n",
    "ids"
   ]
  },
  {
   "cell_type": "markdown",
   "metadata": {},
   "source": [
    "Now that we have a list of dataset ids we can choose one at random to fetch its data and plot it."
   ]
  },
  {
   "cell_type": "code",
   "execution_count": null,
   "metadata": {},
   "outputs": [],
   "source": [
    "from gliderpy.fetchers import GliderDataFetcher\n",
    "\n",
    "uw_grab = GliderDataFetcher()\n",
    "uw_grab.fetcher.dataset_id = ids[42]\n",
    "\n",
    "df = uw_grab.to_pandas()\n",
    "df.head()"
   ]
  },
  {
   "cell_type": "markdown",
   "metadata": {},
   "source": [
    "At the moment `gliderpy` has two convenience functions for plotting the track and a data section. "
   ]
  },
  {
   "cell_type": "code",
   "execution_count": null,
   "metadata": {},
   "outputs": [],
   "source": [
    "from gliderpy.plotters import plot_track, plot_transect\n",
    "\n",
    "fig, ax = plot_track(df)\n",
    "ax.set_title(f\"glider {ids[42]}\")"
   ]
  },
  {
   "cell_type": "code",
   "execution_count": null,
   "metadata": {},
   "outputs": [],
   "source": [
    "import palettable\n",
    "from palettable.cmocean.sequential import Thermal_20\n",
    "\n",
    "fig, ax = plot_transect(df, \"temperature (Celsius)\", cmap=Thermal_20.mpl_colormap)"
   ]
  },
  {
   "cell_type": "code",
   "execution_count": null,
   "metadata": {},
   "outputs": [],
   "source": [
    "from palettable.cmocean.sequential import Haline_20\n",
    "\n",
    "fig, ax = plot_transect(df, \"salinity (1)\", cmap=Haline_20.mpl_colormap)"
   ]
  }
 ],
 "metadata": {
  "kernelspec": {
   "display_name": "Python 3",
   "language": "python",
   "name": "python3"
  },
  "language_info": {
   "codemirror_mode": {
    "name": "ipython",
    "version": 3
   },
   "file_extension": ".py",
   "mimetype": "text/x-python",
   "name": "python",
   "nbconvert_exporter": "python",
   "pygments_lexer": "ipython3",
   "version": "3.8.5"
  }
 },
 "nbformat": 4,
 "nbformat_minor": 4
}
