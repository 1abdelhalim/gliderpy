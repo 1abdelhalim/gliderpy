{
 "cells": [
  {
   "cell_type": "markdown",
   "metadata": {},
   "source": [
    "# Example 0.1: plain erddappy\n",
    "\n",
    "Copied from the [errdappy intro](https://ioos.github.io/erddapy/quick_intro-output.html#Longer-introduction)"
   ]
  },
  {
   "cell_type": "code",
   "execution_count": null,
   "metadata": {},
   "outputs": [],
   "source": [
    "from erddapy import ERDDAP\n",
    "\n",
    "\n",
    "e = ERDDAP(\n",
    "    server=\"https://gliders.ioos.us/erddap\",\n",
    "    protocol=\"tabledap\",\n",
    "    response=\"csv\",\n",
    ")\n",
    "e.dataset_id = \"whoi_406-20160902T1700\"\n",
    "\n",
    "e.variables = [\n",
    "    \"depth\",\n",
    "    \"latitude\",\n",
    "    \"longitude\",\n",
    "    \"salinity\",\n",
    "    \"temperature\",\n",
    "    \"time\",\n",
    "]\n",
    "\n",
    "e.constraints = {\n",
    "    \"time>=\": \"2016-07-10T00:00:00Z\",\n",
    "    \"time<=\": \"2017-02-10T00:00:00Z\",\n",
    "    \"latitude>=\": 38.0,\n",
    "    \"latitude<=\": 41.0,\n",
    "    \"longitude>=\": -72.0,\n",
    "    \"longitude<=\": -69.0,\n",
    "}\n"
   ]
  },
  {
   "cell_type": "code",
   "execution_count": null,
   "metadata": {},
   "outputs": [],
   "source": [
    "df = e.to_pandas(\n",
    "    index_col=\"time (UTC)\",\n",
    "    parse_dates=True,\n",
    ")\n",
    "df.head()"
   ]
  },
  {
   "cell_type": "markdown",
   "metadata": {},
   "source": [
    "# Example 0.2: class wrapping erddapy\n",
    "Emulating the UI of [argopy](https://github.com/euroargodev/argopy)"
   ]
  },
  {
   "cell_type": "code",
   "execution_count": null,
   "metadata": {},
   "outputs": [],
   "source": [
    "from gliderpy.fetchers import GliderDataFetcher\n",
    "\n",
    "\n",
    "glider_grab = GliderDataFetcher()\n",
    "\n",
    "glider_grab.fetcher.dataset_id = \"whoi_406-20160902T1700\"\n",
    "df = glider_grab.to_pandas()\n",
    "df.head()"
   ]
  },
  {
   "cell_type": "markdown",
   "metadata": {},
   "source": [
    "Try with a different datset"
   ]
  },
  {
   "cell_type": "code",
   "execution_count": null,
   "metadata": {},
   "outputs": [],
   "source": [
    "glider_grab = GliderDataFetcher()\n",
    "glider_grab.fetcher.dataset_id = \"sp022-20170209T1616\"\n",
    "\n",
    "df = glider_grab.to_pandas()\n",
    "df.head()"
   ]
  },
  {
   "cell_type": "markdown",
   "metadata": {},
   "source": [
    "# Example 0.3: implement time and space constraints\n",
    "we can make a direct call to erddapy's `constraints`, this isn't very elegant though"
   ]
  },
  {
   "cell_type": "code",
   "execution_count": null,
   "metadata": {},
   "outputs": [],
   "source": [
    "glider_grab = GliderDataFetcher()\n",
    "\n",
    "glider_grab.fetcher.dataset_id = \"whoi_406-20160902T1700\"\n",
    "\n",
    "glider_grab.fetcher.constraints = {\n",
    "    \"time>=\": \"2016-07-10T00:00:00Z\",\n",
    "    \"time<=\": \"2016-09-15T00:00:00Z\",\n",
    "    \"latitude>=\": 38.0,\n",
    "    \"latitude<=\": 41.0,\n",
    "    \"longitude>=\": -72.0,\n",
    "    \"longitude<=\": -69.0,\n",
    "}\n",
    "\n",
    "df = glider_grab.to_pandas()\n",
    "df.tail()"
   ]
  },
  {
   "cell_type": "markdown",
   "metadata": {},
   "source": [
    "Let's try making a method of the class to do this more neatly"
   ]
  },
  {
   "cell_type": "code",
   "execution_count": null,
   "metadata": {},
   "outputs": [],
   "source": [
    "glider_grab = GliderDataFetcher()\n",
    "\n",
    "# In this case we don't want to specify a dataset_id, we want all gliders in that query.\n",
    "glider_grab.fetcher.dataset_id = \"whoi_406-20160902T1700\"\n",
    "min_lat, max_lat, min_lon, max_lon = 10, 40.5, -71, 180\n",
    "start_time, end_time = \"2016-08-1\",\"2016-09-18\"\n",
    "glider_grab.query(\n",
    "    min_lat,\n",
    "    max_lat,\n",
    "    min_lon,\n",
    "    max_lon,\n",
    "    start_time,\n",
    "    end_time\n",
    ")\n",
    "\n",
    "df = glider_grab.to_pandas()\n",
    "df.tail()"
   ]
  },
  {
   "cell_type": "code",
   "execution_count": null,
   "metadata": {},
   "outputs": [],
   "source": [
    "df.describe()"
   ]
  },
  {
   "cell_type": "markdown",
   "metadata": {},
   "source": [
    "# Example 0.4 find glider datasets on server"
   ]
  },
  {
   "cell_type": "markdown",
   "metadata": {},
   "source": [
    "Calling get_ids from the class searches for all databases tagged as glider"
   ]
  },
  {
   "cell_type": "code",
   "execution_count": null,
   "metadata": {},
   "outputs": [],
   "source": [
    "from gliderpy.fetchers import DatasetList\n",
    "\n",
    "datasets = DatasetList()\n",
    "datasets.get_ids()"
   ]
  },
  {
   "cell_type": "markdown",
   "metadata": {},
   "source": [
    "Let's look for the ones from UW"
   ]
  },
  {
   "cell_type": "code",
   "execution_count": null,
   "metadata": {},
   "outputs": [],
   "source": [
    "datasets = DatasetList()\n",
    "datasets.search_terms = [\"UW\"]\n",
    "uw_glider_ids = datasets.get_ids()\n",
    "uw_glider_ids"
   ]
  },
  {
   "cell_type": "markdown",
   "metadata": {},
   "source": [
    "We'll pass that id back into our original data fetcher"
   ]
  },
  {
   "cell_type": "code",
   "execution_count": null,
   "metadata": {},
   "outputs": [],
   "source": [
    "uw_grab = GliderDataFetcher()\n",
    "uw_grab.fetcher.dataset_id = uw_glider_ids[18]\n",
    "\n",
    "df = uw_grab.to_pandas(\n",
    ")\n",
    "df.head()"
   ]
  },
  {
   "cell_type": "markdown",
   "metadata": {},
   "source": [
    "## Example 0.5 Now let's plot the track map for a dataset"
   ]
  },
  {
   "cell_type": "code",
   "execution_count": null,
   "metadata": {},
   "outputs": [],
   "source": [
    "import cartopy.crs as ccrs\n",
    "import matplotlib.pyplot as plt\n",
    "\n",
    "\n",
    "def plot_track(df):\n",
    "    x = df[\"longitude (degrees_east)\"]\n",
    "    y = df[\"latitude (degrees_north)\"]\n",
    "    dx, dy = 2, 4\n",
    "\n",
    "    fig, ax = plt.subplots(\n",
    "        figsize=(9, 9), subplot_kw={\"projection\": ccrs.PlateCarree()}\n",
    "    )\n",
    "    cs = ax.scatter(\n",
    "        x, y, c=df[\"temperature (Celsius)\"], s=50, alpha=0.5, edgecolor=\"none\"\n",
    "    )\n",
    "    cbar = fig.colorbar(\n",
    "        cs, orientation=\"vertical\", fraction=0.1, shrink=0.9, extend=\"both\"\n",
    "    )\n",
    "    ax.coastlines(\"10m\")\n",
    "    ax.set_extent([x.min() - dx, x.max() + dx, y.min() - dy, y.max() + dy])\n",
    "    return fig, ax"
   ]
  },
  {
   "cell_type": "code",
   "execution_count": null,
   "metadata": {},
   "outputs": [],
   "source": [
    "fig, ax = plot_track(df)"
   ]
  },
  {
   "cell_type": "markdown",
   "metadata": {},
   "source": [
    "## Now the transect for a given variable in that dataset"
   ]
  },
  {
   "cell_type": "code",
   "execution_count": null,
   "metadata": {},
   "outputs": [],
   "source": [
    "import matplotlib.dates as mdates\n",
    "import matplotlib.pyplot as plt\n",
    "import palettable\n",
    "from palettable.cmocean.sequential import Haline_20\n",
    "\n",
    "cmap = Haline_20.mpl_colormap\n",
    "\n",
    "\n",
    "def plot_transect(df,var):\n",
    "    fig, ax = plt.subplots(figsize=(17, 2))\n",
    "    cs = ax.scatter(\n",
    "        df.index,\n",
    "        df[\"depth (m)\"],\n",
    "        s=15,\n",
    "        c=df[var],\n",
    "        marker=\"o\",\n",
    "        edgecolor=\"none\",\n",
    "        cmap=cmap,\n",
    "    )\n",
    "\n",
    "    ax.invert_yaxis()\n",
    "    xfmt = mdates.DateFormatter(\"%H:%Mh\\n%d-%b\")\n",
    "    ax.xaxis.set_major_formatter(xfmt)\n",
    "\n",
    "    cbar = fig.colorbar(cs, orientation=\"vertical\", extend=\"both\")\n",
    "    cbar.ax.set_ylabel(var)\n",
    "    ax.set_ylabel(\"Depth (m)\")\n",
    "    return fig, ax"
   ]
  },
  {
   "cell_type": "code",
   "execution_count": null,
   "metadata": {},
   "outputs": [],
   "source": [
    "fig, ax = plot_transect(df, var=\"salinity (1)\")"
   ]
  }
 ],
 "metadata": {
  "kernelspec": {
   "display_name": "Python 3",
   "language": "python",
   "name": "python3"
  },
  "language_info": {
   "codemirror_mode": {
    "name": "ipython",
    "version": 3
   },
   "file_extension": ".py",
   "mimetype": "text/x-python",
   "name": "python",
   "nbconvert_exporter": "python",
   "pygments_lexer": "ipython3",
   "version": "3.8.5"
  }
 },
 "nbformat": 4,
 "nbformat_minor": 4
}
