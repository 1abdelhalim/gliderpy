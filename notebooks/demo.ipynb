{
 "cells": [
  {
   "cell_type": "markdown",
   "metadata": {},
   "source": [
    "# Gliderpy\n",
    "\n",
    "gliderpy builds off of the functionality of erddapy to make glider data access, manipulation, and visualization even simpler \n",
    "\n",
    "(https://github.com/oceanhackweek/ohw20-proj-glide-data-fetcher) "
   ]
  },
  {
   "cell_type": "code",
   "execution_count": null,
   "metadata": {},
   "outputs": [],
   "source": [
    "from pathlib import Path\n",
    "import sys\n",
    "notebook_dir = !pwd\n",
    "sys.path.append(str( Path(notebook_dir[0]).parent.absolute()))"
   ]
  },
  {
   "cell_type": "markdown",
   "metadata": {},
   "source": [
    "# Here is an example of plain erddapy\n",
    "\n",
    "Copied from the [errdapy intro](https://ioos.github.io/erddapy/quick_intro-output.html#Longer-introduction)"
   ]
  },
  {
   "cell_type": "code",
   "execution_count": null,
   "metadata": {},
   "outputs": [],
   "source": [
    "from erddapy import ERDDAP\n",
    "\n",
    "\n",
    "e = ERDDAP(\n",
    "    server=\"https://gliders.ioos.us/erddap\",\n",
    "    protocol=\"tabledap\",\n",
    "    response=\"csv\",\n",
    ")\n",
    "e.dataset_id = \"whoi_406-20160902T1700\"\n",
    "\n",
    "e.variables = [\n",
    "    \"depth\",\n",
    "    \"latitude\",\n",
    "    \"longitude\",\n",
    "    \"salinity\",\n",
    "    \"temperature\",\n",
    "    \"time\",\n",
    "]\n",
    "\n",
    "df = e.to_pandas(\n",
    "    index_col=\"time (UTC)\",\n",
    "    parse_dates=True,\n",
    ")\n",
    "df.head()"
   ]
  },
  {
   "cell_type": "markdown",
   "metadata": {},
   "source": [
    "# Fetch glider data using glider ID\n",
    "\n",
    "Erddapy is great but we want to try to make it even more simple with fewer lines of code with our **gliderpy** package.\n",
    "\n",
    "This emulates the UI of [argopy](https://github.com/euroargodev/argopy)"
   ]
  },
  {
   "cell_type": "code",
   "execution_count": null,
   "metadata": {},
   "outputs": [],
   "source": [
    "from gliderpy.fetchers import GliderDataFetcher\n",
    "\n",
    "glider_grab = GliderDataFetcher()\n",
    "\n",
    "glider_grab.fetcher.dataset_id = \"whoi_406-20160902T1700\"\n",
    "df = glider_grab.to_pandas()\n",
    "df.head()"
   ]
  },
  {
   "cell_type": "markdown",
   "metadata": {},
   "source": [
    "Note how we attain the same output as erddapy with fewer lines and a cleaner UI"
   ]
  },
  {
   "cell_type": "markdown",
   "metadata": {},
   "source": [
    "Try with a different dataset"
   ]
  },
  {
   "cell_type": "code",
   "execution_count": null,
   "metadata": {},
   "outputs": [],
   "source": [
    "glider_grab = GliderDataFetcher()\n",
    "glider_grab.fetcher.dataset_id = \"sp022-20170209T1616\"\n",
    "\n",
    "df = glider_grab.to_pandas()\n",
    "df.head()"
   ]
  },
  {
   "cell_type": "markdown",
   "metadata": {},
   "source": [
    "# Now we will pass time and space constraints\n",
    "\n",
    "The user can supply a bounding box of lat and lon as well as start and end times in arbitrary format to constrain their search"
   ]
  },
  {
   "cell_type": "code",
   "execution_count": null,
   "metadata": {},
   "outputs": [],
   "source": [
    "glider_grab = GliderDataFetcher()\n",
    "glider_grab.fetcher.dataset_id = \"whoi_406-20160902T1700\"\n",
    "glider_grab.query(38, 41, -72, -69, \"2016-09-20T01:00:00\", \"25th sept 2016\")\n",
    "\n",
    "df = glider_grab.to_pandas()\n",
    "df.head()"
   ]
  },
  {
   "cell_type": "markdown",
   "metadata": {},
   "source": [
    "### Find out what datasets are avaialabe on a server"
   ]
  },
  {
   "cell_type": "markdown",
   "metadata": {},
   "source": [
    "Calling get_ids from the class searches for all databases which have \"glider in their metadata\""
   ]
  },
  {
   "cell_type": "code",
   "execution_count": null,
   "metadata": {},
   "outputs": [],
   "source": [
    "from gliderpy.fetchers import DatasetList\n",
    "\n",
    "datasets = DatasetList()\n",
    "ds_ids = datasets.get_ids()\n",
    "\n",
    "print(f'found {len(ds_ids)} datasets matching the search terms {datasets.search_terms} on the server {datasets.e.server}')\n",
    "ds_ids"
   ]
  },
  {
   "cell_type": "markdown",
   "metadata": {},
   "source": [
    "The user can supply their own list of search terms. Let's look for datasets from UW"
   ]
  },
  {
   "cell_type": "code",
   "execution_count": null,
   "metadata": {},
   "outputs": [],
   "source": [
    "datasets = DatasetList()\n",
    "datasets.search_terms = [\"UW\"]\n",
    "uw_glider_ids = datasets.get_ids()\n",
    "\n",
    "print(f'found {len(uw_glider_ids)} datasets matching the search terms {datasets.search_terms} on the server {datasets.e.server}')\n",
    "\n",
    "uw_glider_ids"
   ]
  },
  {
   "cell_type": "markdown",
   "metadata": {},
   "source": [
    "Finally, a combined search for datasets from UW or Scripps"
   ]
  },
  {
   "cell_type": "code",
   "execution_count": null,
   "metadata": {},
   "outputs": [],
   "source": [
    "datasets = DatasetList()\n",
    "datasets.search_terms = [\"UW\", \"Scripps\"]\n",
    "combi_ids = datasets.get_ids()\n",
    "\n",
    "print(f'found {len(combi_ids)} datasets matching the search terms {datasets.search_terms} on the server {datasets.e.server}')\n",
    "\n",
    "combi_ids"
   ]
  },
  {
   "cell_type": "markdown",
   "metadata": {},
   "source": [
    "We'll take an id from the list and pass it back into our data fetcher"
   ]
  },
  {
   "cell_type": "code",
   "execution_count": null,
   "metadata": {},
   "outputs": [],
   "source": [
    "uw_grab = GliderDataFetcher()\n",
    "uw_grab.fetcher.dataset_id = uw_glider_ids[18]\n",
    "\n",
    "df = uw_grab.to_pandas()\n",
    "df.head()"
   ]
  },
  {
   "cell_type": "markdown",
   "metadata": {},
   "source": [
    "## Let's plot the track map for a dataset"
   ]
  },
  {
   "cell_type": "code",
   "execution_count": null,
   "metadata": {},
   "outputs": [],
   "source": [
    "#Colored by temperature--will add kwargs in a future update\n",
    "plot_track(df)"
   ]
  },
  {
   "cell_type": "markdown",
   "metadata": {},
   "source": [
    "## Now the transect for a user defined variable in that dataset"
   ]
  },
  {
   "cell_type": "code",
   "execution_count": null,
   "metadata": {},
   "outputs": [],
   "source": [
    "#Variable options: salinity (1) or temperature (Celcius)\n",
    "plot_transect(df,\"temperature (Celcius)\")"
   ]
  },
  {
   "cell_type": "code",
   "execution_count": null,
   "metadata": {},
   "outputs": [],
   "source": [
    "plot_transect(df,\"salinity (1)\")"
   ]
  }
 ],
 "metadata": {
  "kernelspec": {
   "display_name": "Python 3",
   "language": "python",
   "name": "python3"
  },
  "language_info": {
   "codemirror_mode": {
    "name": "ipython",
    "version": 3
   },
   "file_extension": ".py",
   "mimetype": "text/x-python",
   "name": "python",
   "nbconvert_exporter": "python",
   "pygments_lexer": "ipython3",
   "version": "3.8.5"
  }
 },
 "nbformat": 4,
 "nbformat_minor": 4
}
